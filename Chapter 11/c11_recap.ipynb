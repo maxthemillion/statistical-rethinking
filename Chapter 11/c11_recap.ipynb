{
 "cells": [
  {
   "cell_type": "markdown",
   "id": "complete-hampton",
   "metadata": {},
   "source": [
    "# Chapter 11 - Recap"
   ]
  },
  {
   "cell_type": "markdown",
   "id": "protecting-savage",
   "metadata": {},
   "source": [
    "## Binomial regression"
   ]
  },
  {
   "cell_type": "code",
   "execution_count": 1,
   "id": "fifty-import",
   "metadata": {},
   "outputs": [
    {
     "name": "stderr",
     "output_type": "stream",
     "text": [
      "Loading required package: rstan\n",
      "\n",
      "Loading required package: StanHeaders\n",
      "\n",
      "Loading required package: ggplot2\n",
      "\n",
      "rstan (Version 2.21.2, GitRev: 2e1f913d3ca3)\n",
      "\n",
      "For execution on a local, multicore CPU with excess RAM we recommend calling\n",
      "options(mc.cores = parallel::detectCores()).\n",
      "To avoid recompilation of unchanged Stan programs, we recommend calling\n",
      "rstan_options(auto_write = TRUE)\n",
      "\n",
      "Loading required package: parallel\n",
      "\n",
      "rethinking (Version 2.13)\n",
      "\n",
      "\n",
      "Attaching package: ‘rethinking’\n",
      "\n",
      "\n",
      "The following object is masked from ‘package:stats’:\n",
      "\n",
      "    rstudent\n",
      "\n",
      "\n"
     ]
    }
   ],
   "source": [
    "library(rethinking)"
   ]
  },
  {
   "cell_type": "code",
   "execution_count": 2,
   "id": "indonesian-oregon",
   "metadata": {},
   "outputs": [],
   "source": [
    "data(chimpanzees)\n",
    "d <- chimpanzees"
   ]
  },
  {
   "cell_type": "code",
   "execution_count": 3,
   "id": "established-pressure",
   "metadata": {},
   "outputs": [
    {
     "data": {
      "text/html": [
       "\n",
       "<table width=\"100%\" summary=\"page for chimpanzees {rethinking}\"><tr><td>chimpanzees {rethinking}</td><td style=\"text-align: right;\">R Documentation</td></tr></table>\n",
       "\n",
       "<h2>Chimpanzee prosocialty experiment data</h2>\n",
       "\n",
       "<h3>Description</h3>\n",
       "\n",
       "<p>Data from behavior trials in a captive group of chimpanzees, housed in Lousiana. From Silk et al. 2005. Nature 437:1357-1359.\n",
       "</p>\n",
       "\n",
       "\n",
       "<h3>Usage</h3>\n",
       "\n",
       "<pre>\n",
       "data(chimpanzees)\n",
       "</pre>\n",
       "\n",
       "\n",
       "<h3>Format</h3>\n",
       "\n",
       "\n",
       "<ol>\n",
       "<li><p> actor : name of actor\n",
       "</p>\n",
       "</li>\n",
       "<li><p> recipient : name of recipient (NA for partner absent condition)\n",
       "</p>\n",
       "</li>\n",
       "<li><p> condition : partner absent (0), partner present (1)\n",
       "</p>\n",
       "</li>\n",
       "<li><p> block : block of trials (each actor x each recipient 1 time)\n",
       "</p>\n",
       "</li>\n",
       "<li><p> trial : trial number (by chimp = ordinal sequence of trials for each chimp, ranges from 1-72; partner present trials were interspersed with partner absent trials)\n",
       "</p>\n",
       "</li>\n",
       "<li><p> prosocial_left : 1 if prosocial (1/1) option was on left\n",
       "</p>\n",
       "</li>\n",
       "<li><p> chose_prosoc : choice chimp made (0 = 1/0 option, 1 = 1/1 option)\n",
       "</p>\n",
       "</li>\n",
       "<li><p> pulled_left : which side did chimp pull (1 = left, 0 = right)\n",
       "</p>\n",
       "</li></ol>\n",
       "\n",
       "\n",
       "\n",
       "<h3>Author(s)</h3>\n",
       "\n",
       "<p>Richard McElreath</p>\n",
       "\n",
       "\n",
       "<h3>References</h3>\n",
       "\n",
       "<p>Silk et al. 2005. Nature 437:1357-1359.</p>\n",
       "\n",
       "<hr /><div style=\"text-align: center;\">[Package <em>rethinking</em> version 2.13 ]</div>"
      ],
      "text/latex": [
       "\\inputencoding{utf8}\n",
       "\\HeaderA{chimpanzees}{Chimpanzee prosocialty experiment data}{chimpanzees}\n",
       "%\n",
       "\\begin{Description}\\relax\n",
       "Data from behavior trials in a captive group of chimpanzees, housed in Lousiana. From Silk et al. 2005. Nature 437:1357-1359.\n",
       "\\end{Description}\n",
       "%\n",
       "\\begin{Usage}\n",
       "\\begin{verbatim}\n",
       "data(chimpanzees)\n",
       "\\end{verbatim}\n",
       "\\end{Usage}\n",
       "%\n",
       "\\begin{Format}\n",
       "\\begin{enumerate}\n",
       "\n",
       "\\item{} actor : name of actor\n",
       "\\item{} recipient : name of recipient (NA for partner absent condition)\n",
       "\\item{} condition : partner absent (0), partner present (1)\n",
       "\\item{} block : block of trials (each actor x each recipient 1 time)\n",
       "\\item{} trial : trial number (by chimp = ordinal sequence of trials for each chimp, ranges from 1-72; partner present trials were interspersed with partner absent trials)\n",
       "\\item{} prosocial\\_left : 1 if prosocial (1/1) option was on left\n",
       "\\item{} chose\\_prosoc : choice chimp made (0 = 1/0 option, 1 = 1/1 option)\n",
       "\\item{} pulled\\_left : which side did chimp pull (1 = left, 0 = right)\n",
       "\n",
       "\\end{enumerate}\n",
       "\n",
       "\\end{Format}\n",
       "%\n",
       "\\begin{Author}\\relax\n",
       "Richard McElreath\n",
       "\\end{Author}\n",
       "%\n",
       "\\begin{References}\\relax\n",
       "Silk et al. 2005. Nature 437:1357-1359.\n",
       "\\end{References}"
      ],
      "text/plain": [
       "chimpanzees             package:rethinking             R Documentation\n",
       "\n",
       "_\bC_\bh_\bi_\bm_\bp_\ba_\bn_\bz_\be_\be _\bp_\br_\bo_\bs_\bo_\bc_\bi_\ba_\bl_\bt_\by _\be_\bx_\bp_\be_\br_\bi_\bm_\be_\bn_\bt _\bd_\ba_\bt_\ba\n",
       "\n",
       "_\bD_\be_\bs_\bc_\br_\bi_\bp_\bt_\bi_\bo_\bn:\n",
       "\n",
       "     Data from behavior trials in a captive group of chimpanzees,\n",
       "     housed in Lousiana. From Silk et al. 2005. Nature 437:1357-1359.\n",
       "\n",
       "_\bU_\bs_\ba_\bg_\be:\n",
       "\n",
       "     data(chimpanzees)\n",
       "     \n",
       "_\bF_\bo_\br_\bm_\ba_\bt:\n",
       "\n",
       "       1. actor : name of actor\n",
       "\n",
       "       2. recipient : name of recipient (NA for partner absent\n",
       "          condition)\n",
       "\n",
       "       3. condition : partner absent (0), partner present (1)\n",
       "\n",
       "       4. block : block of trials (each actor x each recipient 1 time)\n",
       "\n",
       "       5. trial : trial number (by chimp = ordinal sequence of trials\n",
       "          for each chimp, ranges from 1-72; partner present trials were\n",
       "          interspersed with partner absent trials)\n",
       "\n",
       "       6. prosocial_left : 1 if prosocial (1/1) option was on left\n",
       "\n",
       "       7. chose_prosoc : choice chimp made (0 = 1/0 option, 1 = 1/1\n",
       "          option)\n",
       "\n",
       "       8. pulled_left : which side did chimp pull (1 = left, 0 = right)\n",
       "\n",
       "_\bA_\bu_\bt_\bh_\bo_\br(_\bs):\n",
       "\n",
       "     Richard McElreath\n",
       "\n",
       "_\bR_\be_\bf_\be_\br_\be_\bn_\bc_\be_\bs:\n",
       "\n",
       "     Silk et al. 2005. Nature 437:1357-1359.\n"
      ]
     },
     "metadata": {},
     "output_type": "display_data"
    }
   ],
   "source": [
    "?chimpanzees"
   ]
  },
  {
   "cell_type": "code",
   "execution_count": 4,
   "id": "hidden-tackle",
   "metadata": {},
   "outputs": [],
   "source": [
    "d$treatment <- 1 + d$prosoc_left + 2*d$condition"
   ]
  },
  {
   "cell_type": "code",
   "execution_count": 5,
   "id": "renewable-milan",
   "metadata": {},
   "outputs": [
    {
     "data": {
      "text/plain": [
       ", , condition = 0\n",
       "\n",
       "         prosoc_left\n",
       "treatment   0   1\n",
       "        1 126   0\n",
       "        2   0 126\n",
       "        3   0   0\n",
       "        4   0   0\n",
       "\n",
       ", , condition = 1\n",
       "\n",
       "         prosoc_left\n",
       "treatment   0   1\n",
       "        1   0   0\n",
       "        2   0   0\n",
       "        3 126   0\n",
       "        4   0 126\n"
      ]
     },
     "metadata": {},
     "output_type": "display_data"
    }
   ],
   "source": [
    "xtabs(~ treatment + prosoc_left + condition, d)"
   ]
  },
  {
   "cell_type": "markdown",
   "id": "coral-democrat",
   "metadata": {},
   "source": [
    "#### A first model definition with a \"flat\" prior for a"
   ]
  },
  {
   "cell_type": "code",
   "execution_count": 7,
   "id": "primary-speaker",
   "metadata": {},
   "outputs": [],
   "source": [
    "m11.1 <- quap(\n",
    "    alist(\n",
    "        pulled_left ~ dbinom(1, p),\n",
    "        logit(p) <- a,\n",
    "        a ~ dnorm(0, 10)\n",
    "    ), data=d\n",
    ")"
   ]
  },
  {
   "cell_type": "markdown",
   "id": "narrative-peace",
   "metadata": {},
   "source": [
    "`pulled_left` indicates that the chimp pulled the left handle."
   ]
  },
  {
   "cell_type": "markdown",
   "id": "miniature-commercial",
   "metadata": {},
   "source": [
    "#### Simulating from the prior"
   ]
  },
  {
   "cell_type": "code",
   "execution_count": 8,
   "id": "olympic-preference",
   "metadata": {},
   "outputs": [],
   "source": [
    "set.seed(1999)\n",
    "prior <- extract.prior(m11.1, n=1e4)"
   ]
  },
  {
   "cell_type": "code",
   "execution_count": 13,
   "id": "paperback-allowance",
   "metadata": {},
   "outputs": [
    {
     "data": {
      "image/png": "[encoded data removed]",
      "text/plain": [
       "Plot with title “Prior distribution for \"a\" transformed to the outcome space”"
      ]
     },
     "metadata": {
      "image/png": {
       "height": 420,
       "width": 420
      }
     },
     "output_type": "display_data"
    }
   ],
   "source": [
    "p <- inv_logit(prior$a)\n",
    "dens(p, adj=0.1, main='Prior distribution for \"a\" transformed to the outcome space')"
   ]
  },
  {
   "cell_type": "markdown",
   "id": "fitted-siemens",
   "metadata": {},
   "source": [
    "Looking at the prior distribution, before seeing the data, the model assumes that the chimps will always or never pull the left handle. So when using link functions, flat priors in the input space are not always flat priors in the outcome space."
   ]
  },
  {
   "cell_type": "markdown",
   "id": "twenty-hotel",
   "metadata": {},
   "source": [
    "### Another model with flat priors for a and b"
   ]
  },
  {
   "cell_type": "code",
   "execution_count": 16,
   "id": "according-ethics",
   "metadata": {},
   "outputs": [],
   "source": [
    "m11.3 <- quap(\n",
    "    alist(\n",
    "        pulled_left ~ dbinom(1, p),\n",
    "        logit(p)  <- a + b[treatment],\n",
    "        a ~ dnorm(0, 1.5),\n",
    "        b[treatment] ~ dnorm(0, 0.5)\n",
    "    ), data=d\n",
    ")\n",
    "set.seed(1999)\n",
    "prior <- extract.prior(m11.3, n=1e4)"
   ]
  },
  {
   "cell_type": "code",
   "execution_count": 19,
   "id": "educated-mediterranean",
   "metadata": {},
   "outputs": [
    {
     "name": "stdout",
     "output_type": "stream",
     "text": [
      "List of 2\n",
      " $ a: num [1:10000(1d)] 1.099 -0.0567 1.8045 2.2047 0.2005 ...\n",
      " $ b: num [1:10000, 1:4] 0.117 -0.573 0.227 0.702 -0.449 ...\n",
      " - attr(*, \"source\")= chr \"quap prior: 10000 samples from m11.3\"\n"
     ]
    }
   ],
   "source": [
    "str(prior)"
   ]
  },
  {
   "cell_type": "code",
   "execution_count": 15,
   "id": "numeric-usage",
   "metadata": {},
   "outputs": [],
   "source": [
    "p <- sapply(1:4, function(k) inv_logit(prior$a + prior$b[,k]))"
   ]
  },
  {
   "cell_type": "markdown",
   "id": "sound-effectiveness",
   "metadata": {},
   "source": [
    "`p` is a matrix that holds samples for the probability of the chimpanzee to pull the left handle given one of four treatments. Probabilities are transformed to the outcome space."
   ]
  },
  {
   "cell_type": "code",
   "execution_count": 21,
   "id": "honest-eugene",
   "metadata": {},
   "outputs": [
    {
     "data": {
      "text/html": [
       "<table class=\"dataframe\">\n",
       "<caption>A matrix: 6 × 4 of type dbl</caption>\n",
       "<tbody>\n",
       "\t<tr><td>0.7713979</td><td>0.8049984</td><td>0.7137373</td><td>0.7676945</td></tr>\n",
       "\t<tr><td>0.3476301</td><td>0.8053233</td><td>0.5288471</td><td>0.6541690</td></tr>\n",
       "\t<tr><td>0.8840334</td><td>0.8988298</td><td>0.7884155</td><td>0.8116421</td></tr>\n",
       "\t<tr><td>0.9481954</td><td>0.7352721</td><td>0.9323378</td><td>0.9408123</td></tr>\n",
       "\t<tr><td>0.4383109</td><td>0.5773124</td><td>0.5566019</td><td>0.6365602</td></tr>\n",
       "\t<tr><td>0.8007519</td><td>0.5696762</td><td>0.6684508</td><td>0.6935776</td></tr>\n",
       "</tbody>\n",
       "</table>\n"
      ],
      "text/latex": [
       "A matrix: 6 × 4 of type dbl\n",
       "\\begin{tabular}{llll}\n",
       "\t 0.7713979 & 0.8049984 & 0.7137373 & 0.7676945\\\\\n",
       "\t 0.3476301 & 0.8053233 & 0.5288471 & 0.6541690\\\\\n",
       "\t 0.8840334 & 0.8988298 & 0.7884155 & 0.8116421\\\\\n",
       "\t 0.9481954 & 0.7352721 & 0.9323378 & 0.9408123\\\\\n",
       "\t 0.4383109 & 0.5773124 & 0.5566019 & 0.6365602\\\\\n",
       "\t 0.8007519 & 0.5696762 & 0.6684508 & 0.6935776\\\\\n",
       "\\end{tabular}\n"
      ],
      "text/markdown": [
       "\n",
       "A matrix: 6 × 4 of type dbl\n",
       "\n",
       "| 0.7713979 | 0.8049984 | 0.7137373 | 0.7676945 |\n",
       "| 0.3476301 | 0.8053233 | 0.5288471 | 0.6541690 |\n",
       "| 0.8840334 | 0.8988298 | 0.7884155 | 0.8116421 |\n",
       "| 0.9481954 | 0.7352721 | 0.9323378 | 0.9408123 |\n",
       "| 0.4383109 | 0.5773124 | 0.5566019 | 0.6365602 |\n",
       "| 0.8007519 | 0.5696762 | 0.6684508 | 0.6935776 |\n",
       "\n"
      ],
      "text/plain": [
       "     [,1]      [,2]      [,3]      [,4]     \n",
       "[1,] 0.7713979 0.8049984 0.7137373 0.7676945\n",
       "[2,] 0.3476301 0.8053233 0.5288471 0.6541690\n",
       "[3,] 0.8840334 0.8988298 0.7884155 0.8116421\n",
       "[4,] 0.9481954 0.7352721 0.9323378 0.9408123\n",
       "[5,] 0.4383109 0.5773124 0.5566019 0.6365602\n",
       "[6,] 0.8007519 0.5696762 0.6684508 0.6935776"
      ]
     },
     "metadata": {},
     "output_type": "display_data"
    }
   ],
   "source": [
    "head(p)"
   ]
  },
  {
   "cell_type": "markdown",
   "id": "signal-sympathy",
   "metadata": {},
   "source": [
    "Now we want to know the average difference between the probability of the chimps to pull the left handle between treatments."
   ]
  },
  {
   "cell_type": "code",
   "execution_count": 15,
   "id": "limiting-latino",
   "metadata": {},
   "outputs": [
    {
     "data": {
      "text/html": [
       "0.0983866320386242"
      ],
      "text/latex": [
       "0.0983866320386242"
      ],
      "text/markdown": [
       "0.0983866320386242"
      ],
      "text/plain": [
       "[1] 0.09838663"
      ]
     },
     "metadata": {},
     "output_type": "display_data"
    }
   ],
   "source": [
    "mean(abs(p[, 1] - p[, 2]))"
   ]
  },
  {
   "cell_type": "markdown",
   "id": "configured-pillow",
   "metadata": {},
   "source": [
    "The priors chosen in m11.3 are flat also in the transformed outcome space"
   ]
  },
  {
   "cell_type": "markdown",
   "id": "incoming-diary",
   "metadata": {},
   "source": [
    "### Hamiltonian Monte Carlo"
   ]
  },
  {
   "cell_type": "code",
   "execution_count": 22,
   "id": "collectible-august",
   "metadata": {},
   "outputs": [],
   "source": [
    "dat_list <- list(\n",
    "    pulled_left=d$pulled_left,\n",
    "    actor=d$actor,\n",
    "    treatment=as.integer(d$treatment)\n",
    ")"
   ]
  },
  {
   "cell_type": "code",
   "execution_count": 23,
   "id": "sustained-cambridge",
   "metadata": {},
   "outputs": [],
   "source": [
    "options(mc.cores = parallel::detectCores())"
   ]
  },
  {
   "cell_type": "code",
   "execution_count": 27,
   "id": "looking-words",
   "metadata": {},
   "outputs": [
    {
     "name": "stdout",
     "output_type": "stream",
     "text": [
      "\n",
      "SAMPLING FOR MODEL '82480dff1a626a42c2ca9de938d65b9d' NOW (CHAIN 1).\n",
      "Chain 1: \n",
      "Chain 1: Gradient evaluation took 0.000114 seconds\n",
      "Chain 1: 1000 transitions using 10 leapfrog steps per transition would take 1.14 seconds.\n",
      "Chain 1: Adjust your expectations accordingly!\n",
      "Chain 1: \n",
      "Chain 1: \n",
      "Chain 1: Iteration:   1 / 1000 [  0%]  (Warmup)\n",
      "Chain 1: Iteration: 100 / 1000 [ 10%]  (Warmup)\n",
      "Chain 1: Iteration: 200 / 1000 [ 20%]  (Warmup)\n",
      "Chain 1: Iteration: 300 / 1000 [ 30%]  (Warmup)\n",
      "Chain 1: Iteration: 400 / 1000 [ 40%]  (Warmup)\n",
      "Chain 1: Iteration: 500 / 1000 [ 50%]  (Warmup)\n",
      "Chain 1: Iteration: 501 / 1000 [ 50%]  (Sampling)\n",
      "Chain 1: Iteration: 600 / 1000 [ 60%]  (Sampling)\n",
      "Chain 1: Iteration: 700 / 1000 [ 70%]  (Sampling)\n",
      "Chain 1: Iteration: 800 / 1000 [ 80%]  (Sampling)\n",
      "Chain 1: Iteration: 900 / 1000 [ 90%]  (Sampling)\n",
      "Chain 1: Iteration: 1000 / 1000 [100%]  (Sampling)\n",
      "Chain 1: \n",
      "Chain 1:  Elapsed Time: 0.49053 seconds (Warm-up)\n",
      "Chain 1:                0.383273 seconds (Sampling)\n",
      "Chain 1:                0.873803 seconds (Total)\n",
      "Chain 1: \n",
      "\n",
      "SAMPLING FOR MODEL '82480dff1a626a42c2ca9de938d65b9d' NOW (CHAIN 2).\n",
      "Chain 2: \n",
      "Chain 2: Gradient evaluation took 7.5e-05 seconds\n",
      "Chain 2: 1000 transitions using 10 leapfrog steps per transition would take 0.75 seconds.\n",
      "Chain 2: Adjust your expectations accordingly!\n",
      "Chain 2: \n",
      "Chain 2: \n",
      "Chain 2: Iteration:   1 / 1000 [  0%]  (Warmup)\n",
      "Chain 2: Iteration: 100 / 1000 [ 10%]  (Warmup)\n",
      "Chain 2: Iteration: 200 / 1000 [ 20%]  (Warmup)\n",
      "Chain 2: Iteration: 300 / 1000 [ 30%]  (Warmup)\n",
      "Chain 2: Iteration: 400 / 1000 [ 40%]  (Warmup)\n",
      "Chain 2: Iteration: 500 / 1000 [ 50%]  (Warmup)\n",
      "Chain 2: Iteration: 501 / 1000 [ 50%]  (Sampling)\n",
      "Chain 2: Iteration: 600 / 1000 [ 60%]  (Sampling)\n",
      "Chain 2: Iteration: 700 / 1000 [ 70%]  (Sampling)\n",
      "Chain 2: Iteration: 800 / 1000 [ 80%]  (Sampling)\n",
      "Chain 2: Iteration: 900 / 1000 [ 90%]  (Sampling)\n",
      "Chain 2: Iteration: 1000 / 1000 [100%]  (Sampling)\n",
      "Chain 2: \n",
      "Chain 2:  Elapsed Time: 0.526796 seconds (Warm-up)\n",
      "Chain 2:                0.476308 seconds (Sampling)\n",
      "Chain 2:                1.0031 seconds (Total)\n",
      "Chain 2: \n",
      "\n",
      "SAMPLING FOR MODEL '82480dff1a626a42c2ca9de938d65b9d' NOW (CHAIN 3).\n",
      "Chain 3: \n",
      "Chain 3: Gradient evaluation took 7.6e-05 seconds\n",
      "Chain 3: 1000 transitions using 10 leapfrog steps per transition would take 0.76 seconds.\n",
      "Chain 3: Adjust your expectations accordingly!\n",
      "Chain 3: \n",
      "Chain 3: \n",
      "Chain 3: Iteration:   1 / 1000 [  0%]  (Warmup)\n",
      "Chain 3: Iteration: 100 / 1000 [ 10%]  (Warmup)\n",
      "Chain 3: Iteration: 200 / 1000 [ 20%]  (Warmup)\n",
      "Chain 3: Iteration: 300 / 1000 [ 30%]  (Warmup)\n",
      "Chain 3: Iteration: 400 / 1000 [ 40%]  (Warmup)\n",
      "Chain 3: Iteration: 500 / 1000 [ 50%]  (Warmup)\n",
      "Chain 3: Iteration: 501 / 1000 [ 50%]  (Sampling)\n",
      "Chain 3: Iteration: 600 / 1000 [ 60%]  (Sampling)\n",
      "Chain 3: Iteration: 700 / 1000 [ 70%]  (Sampling)\n",
      "Chain 3: Iteration: 800 / 1000 [ 80%]  (Sampling)\n",
      "Chain 3: Iteration: 900 / 1000 [ 90%]  (Sampling)\n",
      "Chain 3: Iteration: 1000 / 1000 [100%]  (Sampling)\n",
      "Chain 3: \n",
      "Chain 3:  Elapsed Time: 0.508206 seconds (Warm-up)\n",
      "Chain 3:                0.40838 seconds (Sampling)\n",
      "Chain 3:                0.916586 seconds (Total)\n",
      "Chain 3: \n",
      "\n",
      "SAMPLING FOR MODEL '82480dff1a626a42c2ca9de938d65b9d' NOW (CHAIN 4).\n",
      "Chain 4: \n",
      "Chain 4: Gradient evaluation took 7.2e-05 seconds\n",
      "Chain 4: 1000 transitions using 10 leapfrog steps per transition would take 0.72 seconds.\n",
      "Chain 4: Adjust your expectations accordingly!\n",
      "Chain 4: \n",
      "Chain 4: \n",
      "Chain 4: Iteration:   1 / 1000 [  0%]  (Warmup)\n",
      "Chain 4: Iteration: 100 / 1000 [ 10%]  (Warmup)\n",
      "Chain 4: Iteration: 200 / 1000 [ 20%]  (Warmup)\n",
      "Chain 4: Iteration: 300 / 1000 [ 30%]  (Warmup)\n",
      "Chain 4: Iteration: 400 / 1000 [ 40%]  (Warmup)\n",
      "Chain 4: Iteration: 500 / 1000 [ 50%]  (Warmup)\n",
      "Chain 4: Iteration: 501 / 1000 [ 50%]  (Sampling)\n",
      "Chain 4: Iteration: 600 / 1000 [ 60%]  (Sampling)\n",
      "Chain 4: Iteration: 700 / 1000 [ 70%]  (Sampling)\n",
      "Chain 4: Iteration: 800 / 1000 [ 80%]  (Sampling)\n",
      "Chain 4: Iteration: 900 / 1000 [ 90%]  (Sampling)\n",
      "Chain 4: Iteration: 1000 / 1000 [100%]  (Sampling)\n",
      "Chain 4: \n",
      "Chain 4:  Elapsed Time: 0.514542 seconds (Warm-up)\n",
      "Chain 4:                0.513339 seconds (Sampling)\n",
      "Chain 4:                1.02788 seconds (Total)\n",
      "Chain 4: \n"
     ]
    }
   ],
   "source": [
    "m11.4 <- ulam(\n",
    "    alist(\n",
    "        pulled_left ~ dbinom(1, p),\n",
    "        logit(p) <- a[actor] + b[treatment],\n",
    "        a[actor] ~ dnorm(0, 1.5),\n",
    "        b[treatment] ~ dnorm(0, 0.5)\n",
    "    ), data=dat_list, chains=4, log_lik=TRUE\n",
    "\n",
    ")"
   ]
  },
  {
   "cell_type": "code",
   "execution_count": 28,
   "id": "pressing-authentication",
   "metadata": {},
   "outputs": [
    {
     "data": {
      "text/html": [
       "<table class=\"dataframe\">\n",
       "<caption>A precis: 11 × 6</caption>\n",
       "<thead>\n",
       "\t<tr><th></th><th scope=col>mean</th><th scope=col>sd</th><th scope=col>5.5%</th><th scope=col>94.5%</th><th scope=col>n_eff</th><th scope=col>Rhat4</th></tr>\n",
       "\t<tr><th></th><th scope=col>&lt;dbl&gt;</th><th scope=col>&lt;dbl&gt;</th><th scope=col>&lt;dbl&gt;</th><th scope=col>&lt;dbl&gt;</th><th scope=col>&lt;dbl&gt;</th><th scope=col>&lt;dbl&gt;</th></tr>\n",
       "</thead>\n",
       "<tbody>\n",
       "\t<tr><th scope=row>a[1]</th><td>-0.42878150</td><td>0.3342138</td><td>-0.94906783</td><td> 0.11815917</td><td> 672.2653</td><td>1.004924</td></tr>\n",
       "\t<tr><th scope=row>a[2]</th><td> 3.93107324</td><td>0.7602115</td><td> 2.83349513</td><td> 5.22246780</td><td>1300.7738</td><td>1.001702</td></tr>\n",
       "\t<tr><th scope=row>a[3]</th><td>-0.72836642</td><td>0.3436646</td><td>-1.28993673</td><td>-0.17879044</td><td> 844.5166</td><td>1.000267</td></tr>\n",
       "\t<tr><th scope=row>a[4]</th><td>-0.73107065</td><td>0.3446613</td><td>-1.30571195</td><td>-0.20065266</td><td> 702.3799</td><td>1.003187</td></tr>\n",
       "\t<tr><th scope=row>a[5]</th><td>-0.42729720</td><td>0.3318995</td><td>-0.95139054</td><td> 0.09454480</td><td> 655.9572</td><td>1.002675</td></tr>\n",
       "\t<tr><th scope=row>a[6]</th><td> 0.50386417</td><td>0.3420611</td><td>-0.05230458</td><td> 1.04903793</td><td> 665.2975</td><td>1.003914</td></tr>\n",
       "\t<tr><th scope=row>a[7]</th><td> 1.97708463</td><td>0.4254668</td><td> 1.28774926</td><td> 2.65231310</td><td> 682.8315</td><td>1.006864</td></tr>\n",
       "\t<tr><th scope=row>b[1]</th><td>-0.05687998</td><td>0.2875033</td><td>-0.50302618</td><td> 0.41006017</td><td> 602.2589</td><td>1.003733</td></tr>\n",
       "\t<tr><th scope=row>b[2]</th><td> 0.46110431</td><td>0.2968568</td><td>-0.00997736</td><td> 0.94910189</td><td> 669.0463</td><td>1.002660</td></tr>\n",
       "\t<tr><th scope=row>b[3]</th><td>-0.40976634</td><td>0.3009595</td><td>-0.88734546</td><td> 0.07713707</td><td> 586.2119</td><td>1.005882</td></tr>\n",
       "\t<tr><th scope=row>b[4]</th><td> 0.34962241</td><td>0.2880164</td><td>-0.10489529</td><td> 0.82416533</td><td> 650.7366</td><td>1.002103</td></tr>\n",
       "</tbody>\n",
       "</table>\n"
      ],
      "text/latex": [
       "A precis: 11 × 6\n",
       "\\begin{tabular}{r|llllll}\n",
       "  & mean & sd & 5.5\\% & 94.5\\% & n\\_eff & Rhat4\\\\\n",
       "  & <dbl> & <dbl> & <dbl> & <dbl> & <dbl> & <dbl>\\\\\n",
       "\\hline\n",
       "\ta{[}1{]} & -0.42878150 & 0.3342138 & -0.94906783 &  0.11815917 &  672.2653 & 1.004924\\\\\n",
       "\ta{[}2{]} &  3.93107324 & 0.7602115 &  2.83349513 &  5.22246780 & 1300.7738 & 1.001702\\\\\n",
       "\ta{[}3{]} & -0.72836642 & 0.3436646 & -1.28993673 & -0.17879044 &  844.5166 & 1.000267\\\\\n",
       "\ta{[}4{]} & -0.73107065 & 0.3446613 & -1.30571195 & -0.20065266 &  702.3799 & 1.003187\\\\\n",
       "\ta{[}5{]} & -0.42729720 & 0.3318995 & -0.95139054 &  0.09454480 &  655.9572 & 1.002675\\\\\n",
       "\ta{[}6{]} &  0.50386417 & 0.3420611 & -0.05230458 &  1.04903793 &  665.2975 & 1.003914\\\\\n",
       "\ta{[}7{]} &  1.97708463 & 0.4254668 &  1.28774926 &  2.65231310 &  682.8315 & 1.006864\\\\\n",
       "\tb{[}1{]} & -0.05687998 & 0.2875033 & -0.50302618 &  0.41006017 &  602.2589 & 1.003733\\\\\n",
       "\tb{[}2{]} &  0.46110431 & 0.2968568 & -0.00997736 &  0.94910189 &  669.0463 & 1.002660\\\\\n",
       "\tb{[}3{]} & -0.40976634 & 0.3009595 & -0.88734546 &  0.07713707 &  586.2119 & 1.005882\\\\\n",
       "\tb{[}4{]} &  0.34962241 & 0.2880164 & -0.10489529 &  0.82416533 &  650.7366 & 1.002103\\\\\n",
       "\\end{tabular}\n"
      ],
      "text/markdown": [
       "\n",
       "A precis: 11 × 6\n",
       "\n",
       "| <!--/--> | mean &lt;dbl&gt; | sd &lt;dbl&gt; | 5.5% &lt;dbl&gt; | 94.5% &lt;dbl&gt; | n_eff &lt;dbl&gt; | Rhat4 &lt;dbl&gt; |\n",
       "|---|---|---|---|---|---|---|\n",
       "| a[1] | -0.42878150 | 0.3342138 | -0.94906783 |  0.11815917 |  672.2653 | 1.004924 |\n",
       "| a[2] |  3.93107324 | 0.7602115 |  2.83349513 |  5.22246780 | 1300.7738 | 1.001702 |\n",
       "| a[3] | -0.72836642 | 0.3436646 | -1.28993673 | -0.17879044 |  844.5166 | 1.000267 |\n",
       "| a[4] | -0.73107065 | 0.3446613 | -1.30571195 | -0.20065266 |  702.3799 | 1.003187 |\n",
       "| a[5] | -0.42729720 | 0.3318995 | -0.95139054 |  0.09454480 |  655.9572 | 1.002675 |\n",
       "| a[6] |  0.50386417 | 0.3420611 | -0.05230458 |  1.04903793 |  665.2975 | 1.003914 |\n",
       "| a[7] |  1.97708463 | 0.4254668 |  1.28774926 |  2.65231310 |  682.8315 | 1.006864 |\n",
       "| b[1] | -0.05687998 | 0.2875033 | -0.50302618 |  0.41006017 |  602.2589 | 1.003733 |\n",
       "| b[2] |  0.46110431 | 0.2968568 | -0.00997736 |  0.94910189 |  669.0463 | 1.002660 |\n",
       "| b[3] | -0.40976634 | 0.3009595 | -0.88734546 |  0.07713707 |  586.2119 | 1.005882 |\n",
       "| b[4] |  0.34962241 | 0.2880164 | -0.10489529 |  0.82416533 |  650.7366 | 1.002103 |\n",
       "\n"
      ],
      "text/plain": [
       "     mean        sd        5.5%        94.5%       n_eff     Rhat4   \n",
       "a[1] -0.42878150 0.3342138 -0.94906783  0.11815917  672.2653 1.004924\n",
       "a[2]  3.93107324 0.7602115  2.83349513  5.22246780 1300.7738 1.001702\n",
       "a[3] -0.72836642 0.3436646 -1.28993673 -0.17879044  844.5166 1.000267\n",
       "a[4] -0.73107065 0.3446613 -1.30571195 -0.20065266  702.3799 1.003187\n",
       "a[5] -0.42729720 0.3318995 -0.95139054  0.09454480  655.9572 1.002675\n",
       "a[6]  0.50386417 0.3420611 -0.05230458  1.04903793  665.2975 1.003914\n",
       "a[7]  1.97708463 0.4254668  1.28774926  2.65231310  682.8315 1.006864\n",
       "b[1] -0.05687998 0.2875033 -0.50302618  0.41006017  602.2589 1.003733\n",
       "b[2]  0.46110431 0.2968568 -0.00997736  0.94910189  669.0463 1.002660\n",
       "b[3] -0.40976634 0.3009595 -0.88734546  0.07713707  586.2119 1.005882\n",
       "b[4]  0.34962241 0.2880164 -0.10489529  0.82416533  650.7366 1.002103"
      ]
     },
     "metadata": {},
     "output_type": "display_data"
    }
   ],
   "source": [
    "precis(m11.4, depth=2)"
   ]
  },
  {
   "cell_type": "markdown",
   "id": "driving-scout",
   "metadata": {},
   "source": [
    "**Recap:**  \n",
    "`n_eff` is an estimator for the number of independent samples you managed to get. Here, the number of efficient samples is much smaller (1/4th) than the actual number of samples, which means that the samples are autocorrelated to some degree.\n",
    "\n",
    "`Rhat` measures whether the chain converges towards the true shape of the posterior. As it is almost 1 for all parameters, this is the case."
   ]
  },
  {
   "cell_type": "code",
   "execution_count": 29,
   "id": "addressed-honolulu",
   "metadata": {},
   "outputs": [
    {
     "name": "stdout",
     "output_type": "stream",
     "text": [
      "Hamiltonian Monte Carlo approximation\n",
      "2000 samples from 4 chains\n",
      "\n",
      "Sampling durations (seconds):\n",
      "        warmup sample total\n",
      "chain:1   0.49   0.38  0.87\n",
      "chain:2   0.53   0.48  1.00\n",
      "chain:3   0.51   0.41  0.92\n",
      "chain:4   0.51   0.51  1.03\n",
      "\n",
      "Formula:\n",
      "pulled_left ~ dbinom(1, p)\n",
      "logit(p) <- a[actor] + b[treatment]\n",
      "a[actor] ~ dnorm(0, 1.5)\n",
      "b[treatment] ~ dnorm(0, 0.5)\n"
     ]
    }
   ],
   "source": [
    "show(m11.4)"
   ]
  },
  {
   "cell_type": "code",
   "execution_count": null,
   "id": "compound-concert",
   "metadata": {},
   "outputs": [],
   "source": []
  }
 ],
 "metadata": {
  "kernelspec": {
   "display_name": "R",
   "language": "R",
   "name": "ir"
  },
  "language_info": {
   "codemirror_mode": "r",
   "file_extension": ".r",
   "mimetype": "text/x-r-source",
   "name": "R",
   "pygments_lexer": "r",
   "version": "4.0.3"
  }
 },
 "nbformat": 4,
 "nbformat_minor": 5
}
